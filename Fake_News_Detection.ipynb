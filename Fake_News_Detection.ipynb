{
  "nbformat": 4,
  "nbformat_minor": 0,
  "metadata": {
    "colab": {
      "provenance": [],
      "gpuType": "T4"
    },
    "kernelspec": {
      "name": "python3",
      "display_name": "Python 3"
    },
    "language_info": {
      "name": "python"
    },
    "accelerator": "GPU"
  },
  "cells": [
    {
      "cell_type": "markdown",
      "source": [
        "# Comparative Text Classification for Fake News Detection: An Analysis of Statistical and Deep Learning Models\n"
      ],
      "metadata": {
        "id": "o2us0-LjCTw2"
      }
    },
    {
      "cell_type": "markdown",
      "source": [
        "# About the DataSet\n",
        "The dataset used for this project is publicly available on Kaggle, titled \"Fake News Detection Dataset\" by TheRealSampat. https://www.kaggle.com/code/therealsampat/fake-news-detection/notebook.\n",
        "This dataset is specifically designed for the task of classifying news articles as either \"real\" or \"fake.\" It typically comprises a collection of news articles, each labeled with its veracity. Key columns usually include:\n",
        "\n",
        "title: The headline of the news article.\n",
        "\n",
        "text: The full content or body of the news article.\n",
        "\n",
        "label: A binary indicator (e.g., 0 for real, 1 for fake, or vice versa) representing the authenticity of the news.\n",
        "\n",
        "Other metadata columns might also be present, such as subject or date, which can sometimes provide additional contextual features.\n",
        "\n",
        "The dataset is balanced, meaning it contains a roughly equal number of real and fake news articles, which is crucial for training unbiased classification models. The diversity of content, ranging from factual reporting to potentially misleading information, makes it a robust resource for developing and testing machine learning models aimed at automatically detecting deceptive content."
      ],
      "metadata": {
        "id": "C8YelL6a_7HY"
      }
    },
    {
      "cell_type": "markdown",
      "source": [
        "# I. Introduction"
      ],
      "metadata": {
        "id": "NZD7wI6owdar"
      }
    },
    {
      "cell_type": "markdown",
      "source": [
        "\n",
        "1. **Domain-Soecific Area:** Fake News Detection\n",
        "The widespred dissemination of fake news has become a significant societal concer, particulary with the rise of digital platforms and social media. Fake news refers to intentionally fabricated content that mimics news media format but lacks the editorial standards and intent of legitimate journalism. Its presence can mislead the public, influence political decisions, and cause social unrest, as seen during events like the 2016 U.S. presidential election and the COVID-19 pandemic.\n",
        "\n",
        "  In  the field of Natural Language Processing (NLP) domain, fake news detection is a crucial classification problem, where machine learning models can be employed  to disinguish between real and fabricated news articles based of textual features. The goal is to develop automated systems capable of identitying misleading information by analyzing patterns in language use, sentence, structure, and word semantics.\n",
        "\n",
        "  Recent literature highlights the use of both traditional statistical models and modern deep learning techniques in tackling this issue. Shu et al. (2017) emphasized the need for data mining and NLP approaches in combating fake news, while Zhou and Zafarani (2018) provided a comprehensive survey of machine learning frameworks used for detection. These studies confirm that a dual approach—comparing conventional methods like TF-IDF-based classification with more sophisticated models like BERT or LSTM—can provide valuable insights into model performance across different linguistic representations.\n",
        "\n",
        "  In this project, fake news detection is formulated as a binary classification task: classifying articles as either FAKE or REAL based on their title and/ or body text. The focus will be on comparing two different modeling approaches to identify which better captures the underlying patterns of misinformation.\n",
        "\n",
        "\n"
      ],
      "metadata": {
        "id": "kGIxv25DRqjK"
      }
    },
    {
      "cell_type": "markdown",
      "source": [
        "2. **Objectives**\n",
        "\n",
        "  The primary objective of this coursework is to compare the performance of two distinct text classification paradigms for fake news detection: a statistical model and an embedding-based deep learning model.\n",
        "\n",
        "  The statistical model will utilize Term Frequency-Inverse Document Frequency(TF-IDF) vectorization combined with a Logistic Regression classifer.\n",
        "\n",
        "  The embedding-based approach will use either a Long Short-Term Memory (LSTM) neural network or a pre-trained BERT model to capture contextual and semantic features of the news articles.\n",
        "\n",
        "  This comparative study will assess the model's ability to handle:\n",
        "  -Longer and more complex text bodies,\n",
        "  -Informal, biased, or emotionally charged language typical of fake news.\n",
        "\n",
        "  The analysis aims to determine the practical strengths and limitations of each model type, offering insights into their real-world applicability i news verification systems, social media monitoring tools, and content moderation platforms.\n"
      ],
      "metadata": {
        "id": "4zRBo72uvtKF"
      }
    },
    {
      "cell_type": "markdown",
      "source": [
        "3. **Dataset Description**\n",
        "\n",
        "  This project will use the Fake and Real News Dataset by Clement Bisaillion, available on Kaggle. The dataset contains over 23,000 news articles, evenly divided between fake and real labels. Each article entry includes fields such as title, text, subject, date and binary label indicating its aunthenticity (Fake or Real).\n",
        "\n",
        "  The dataset is well-suited for binary text classification and is balanced, which facilitates fair evaluation. For model training and evaluation, the 'text' field will be used as the primary input, although combinig the 'title' and 'text' fields may also be considered to enhance performance.\n",
        "\n",
        "  Preprocessing steps will include removing null entries, eliminating duplicate rows, lowercasing, tokenization, stopword removal, and lemmatization for the statistical model. The embedding-based model may require additional steps such as sequence padding or tokenizer encoding."
      ],
      "metadata": {
        "id": "-QR44IU2v3bO"
      }
    },
    {
      "cell_type": "markdown",
      "source": [
        "4. **Evaluation Methodology**\n",
        "\n",
        "  To evaluate model performance, a range of classification metrics will be applied, including Accuarcy, Precision, Recall, and F1-score. Among these, F1-Score is particularly critical due to its balanced meausrement of precision and recall, especially in cases where class imbalane might emerge.\n",
        "\n",
        "  Additional evaluation tools such as confusiin matrices and Receiver Operating Characteristic (ROC) curves will be used to visualize and interpret the model's  discrimnative capabilities. The dataset will be split using an 80/20 train-test ration or through 5-fold cross-validation to ensure robust generalization and reliable performance comparisons."
      ],
      "metadata": {
        "id": "CyboDhcHn8-i"
      }
    },
    {
      "cell_type": "markdown",
      "source": [
        "# II. Implementation"
      ],
      "metadata": {
        "id": "v7LWkgQ3wmIY"
      }
    },
    {
      "cell_type": "markdown",
      "source": [
        " ## Various Cleaning Processes and Dataset-Specific Considerations\n",
        "\n",
        "Preparing the raw text data for machine learning models is a critical step due to its inherent unstructured and noisy nature. The following comprehensive preprocessing steps were applied:"
      ],
      "metadata": {
        "id": "vGQ4fWkHCmTr"
      }
    },
    {
      "cell_type": "markdown",
      "source": [
        "5. **Data Preprocessing**"
      ],
      "metadata": {
        "id": "B4BZqnLVwuGa"
      }
    },
    {
      "cell_type": "markdown",
      "source": [
        "\n",
        "\n",
        "\n",
        "\n",
        "*   Understaning the data:\n",
        "   The dataset of fake and true csv file getting from the kaggle are loaded into separate the dataframses using the Pandas library\n",
        "\n",
        "*  **Initial Data Loading and Labeling:** Separate CSV files for \"Fake\" and \"True\" news were loaded into Pandas DataFrames. A label column was then explicitly added to each, assigning 0 for fake news and 1 for true news, before concatenating them into a single combined_df.\n",
        "\n"
      ],
      "metadata": {
        "id": "5HFcHfMrKjng"
      }
    },
    {
      "cell_type": "code",
      "execution_count": null,
      "metadata": {
        "id": "V7QKoSphJrgd"
      },
      "outputs": [],
      "source": [
        "import pandas as pd\n",
        "\n",
        "# Load the datasets\n",
        "fake_df = pd.read_csv(\"/content/drive/MyDrive/NLP_MidTerm/Fake.csv\")\n",
        "true_df = pd.read_csv(\"/content/drive/MyDrive/NLP_MidTerm/True.csv\")\n",
        "\n"
      ]
    },
    {
      "cell_type": "markdown",
      "source": [
        "* Examine the columns in each file:  The file have title, text, subject, and date. The text colimns will be the most useful for my analysis obviosuly, but the title might also be helpful."
      ],
      "metadata": {
        "id": "fxt5S3gGLKaX"
      }
    },
    {
      "cell_type": "code",
      "source": [
        "# Add labels\n",
        "fake_df['label'] = 0  # 0 for Fake news\n",
        "true_df['label'] = 1   # 1 for True news\n",
        "\n",
        "# Display the first few rows of each dataframe\n",
        "print(\"Fake News Data:\")\n",
        "print(fake_df.head())\n",
        "print(\"\\nTrue News Data:\")\n",
        "print(true_df.head())"
      ],
      "metadata": {
        "colab": {
          "base_uri": "https://localhost:8080/"
        },
        "id": "O_MOOgPRKNEd",
        "outputId": "fe3e92a2-3c9a-4d0d-952c-8c16f5f0cadb"
      },
      "execution_count": null,
      "outputs": [
        {
          "output_type": "stream",
          "name": "stdout",
          "text": [
            "Fake News Data:\n",
            "                                               title  \\\n",
            "0   Donald Trump Sends Out Embarrassing New Year’...   \n",
            "1   Drunk Bragging Trump Staffer Started Russian ...   \n",
            "2   Sheriff David Clarke Becomes An Internet Joke...   \n",
            "3   Trump Is So Obsessed He Even Has Obama’s Name...   \n",
            "4   Pope Francis Just Called Out Donald Trump Dur...   \n",
            "\n",
            "                                                text subject  \\\n",
            "0  Donald Trump just couldn t wish all Americans ...    News   \n",
            "1  House Intelligence Committee Chairman Devin Nu...    News   \n",
            "2  On Friday, it was revealed that former Milwauk...    News   \n",
            "3  On Christmas day, Donald Trump announced that ...    News   \n",
            "4  Pope Francis used his annual Christmas Day mes...    News   \n",
            "\n",
            "                date  label  \n",
            "0  December 31, 2017      0  \n",
            "1  December 31, 2017      0  \n",
            "2  December 30, 2017      0  \n",
            "3  December 29, 2017      0  \n",
            "4  December 25, 2017      0  \n",
            "\n",
            "True News Data:\n",
            "                                               title  \\\n",
            "0  As U.S. budget fight looms, Republicans flip t...   \n",
            "1  U.S. military to accept transgender recruits o...   \n",
            "2  Senior U.S. Republican senator: 'Let Mr. Muell...   \n",
            "3  FBI Russia probe helped by Australian diplomat...   \n",
            "4  Trump wants Postal Service to charge 'much mor...   \n",
            "\n",
            "                                                text       subject  \\\n",
            "0  WASHINGTON (Reuters) - The head of a conservat...  politicsNews   \n",
            "1  WASHINGTON (Reuters) - Transgender people will...  politicsNews   \n",
            "2  WASHINGTON (Reuters) - The special counsel inv...  politicsNews   \n",
            "3  WASHINGTON (Reuters) - Trump campaign adviser ...  politicsNews   \n",
            "4  SEATTLE/WASHINGTON (Reuters) - President Donal...  politicsNews   \n",
            "\n",
            "                 date  label  \n",
            "0  December 31, 2017       1  \n",
            "1  December 29, 2017       1  \n",
            "2  December 31, 2017       1  \n",
            "3  December 30, 2017       1  \n",
            "4  December 29, 2017       1  \n"
          ]
        }
      ]
    },
    {
      "cell_type": "code",
      "source": [
        "# Get some basic information about the dataframes\n",
        "print(\"\\nInformation about Fake News Data:\")\n",
        "print(fake_df.info())\n",
        "print(\"\\nInformation about True News Data:\")\n",
        "print(true_df.info())"
      ],
      "metadata": {
        "colab": {
          "base_uri": "https://localhost:8080/"
        },
        "id": "MMOLOzS8KU6Q",
        "outputId": "fc67462b-d562-4a6c-b6f9-c62dd92dc213"
      },
      "execution_count": null,
      "outputs": [
        {
          "output_type": "stream",
          "name": "stdout",
          "text": [
            "\n",
            "Information about Fake News Data:\n",
            "<class 'pandas.core.frame.DataFrame'>\n",
            "RangeIndex: 23481 entries, 0 to 23480\n",
            "Data columns (total 5 columns):\n",
            " #   Column   Non-Null Count  Dtype \n",
            "---  ------   --------------  ----- \n",
            " 0   title    23481 non-null  object\n",
            " 1   text     23481 non-null  object\n",
            " 2   subject  23481 non-null  object\n",
            " 3   date     23481 non-null  object\n",
            " 4   label    23481 non-null  int64 \n",
            "dtypes: int64(1), object(4)\n",
            "memory usage: 917.4+ KB\n",
            "None\n",
            "\n",
            "Information about True News Data:\n",
            "<class 'pandas.core.frame.DataFrame'>\n",
            "RangeIndex: 21417 entries, 0 to 21416\n",
            "Data columns (total 5 columns):\n",
            " #   Column   Non-Null Count  Dtype \n",
            "---  ------   --------------  ----- \n",
            " 0   title    21417 non-null  object\n",
            " 1   text     21417 non-null  object\n",
            " 2   subject  21417 non-null  object\n",
            " 3   date     21417 non-null  object\n",
            " 4   label    21417 non-null  int64 \n",
            "dtypes: int64(1), object(4)\n",
            "memory usage: 836.7+ KB\n",
            "None\n"
          ]
        }
      ]
    },
    {
      "cell_type": "markdown",
      "source": [
        "* **Handling Missing Values:** Although the loaded dataframes fake_df and true_df showed no missing values in their respective columns, the project description noted the importance of \"removing null entries\" as a general preprocessing step to ensure data integrity."
      ],
      "metadata": {
        "id": "blxcNrD6Lwp3"
      }
    },
    {
      "cell_type": "code",
      "source": [
        "# Check for missing values\n",
        "print(\"\\nMissing values in Fake News Data:\")\n",
        "print(fake_df.isnull().sum())\n",
        "print(\"\\nMissing values in True News Data:\")\n",
        "print(true_df.isnull().sum())"
      ],
      "metadata": {
        "colab": {
          "base_uri": "https://localhost:8080/"
        },
        "id": "p2dHxP7TKX6j",
        "outputId": "dad09026-2296-4fbd-9622-822967fbcbbd"
      },
      "execution_count": null,
      "outputs": [
        {
          "output_type": "stream",
          "name": "stdout",
          "text": [
            "\n",
            "Missing values in Fake News Data:\n",
            "title      0\n",
            "text       0\n",
            "subject    0\n",
            "date       0\n",
            "label      0\n",
            "dtype: int64\n",
            "\n",
            "Missing values in True News Data:\n",
            "title      0\n",
            "text       0\n",
            "subject    0\n",
            "date       0\n",
            "label      0\n",
            "dtype: int64\n"
          ]
        }
      ]
    },
    {
      "cell_type": "markdown",
      "source": [
        "*  Labeling: Need  away to distingusih between fake and true news, thus why, add a new column called label to both dataframes.\n",
        "  *    For fake csv, assign the label 0.\n",
        "  *   For true csv, assign the label 1.\n",
        "\n",
        "Combine the two dataframes into a single datafrme to complete the dataset.\n"
      ],
      "metadata": {
        "id": "rqgM4BHyL3oj"
      }
    },
    {
      "cell_type": "code",
      "source": [
        "#installing the require libraries\n",
        "import pandas as pd\n",
        "import nltk\n",
        "import re\n",
        "from nltk.corpus import stopwords\n",
        "from nltk.stem import WordNetLemmatizer"
      ],
      "metadata": {
        "id": "ZzaTU2TePtOG"
      },
      "execution_count": null,
      "outputs": []
    },
    {
      "cell_type": "markdown",
      "source": [
        " Breakdown of the below code Combine Dataset does:\n",
        "* pd.concat(): function merges fake_df and true_df vertically like adding the rows of one DataFrame to the end of the other.\n",
        "* ignore_index_true: This ensures that the combined DataFrame has a contionous index, avoiding potential issues.\n",
        "* combined_df.sample(frac=1, random_state=42).reset_index(drop=True): This shuffle the combined DataFrame. Shuffling is very important before training a machine learning model to prevent it from learning patterns based on the order of the data. random_state ensures that getting the same shuffle everytime the code run, which is helpful for reproducibility\n"
      ],
      "metadata": {
        "id": "MUJNw5OuRtP-"
      }
    },
    {
      "cell_type": "code",
      "source": [
        "# 1. Combine the datasets\n",
        "combined_df = pd.concat([fake_df, true_df], ignore_index=True)\n",
        "\n",
        "# Shuffle the combined dataset (important for training)\n",
        "combined_df = combined_df.sample(frac=1, random_state=42).reset_index(drop=True)\n",
        "\n",
        "print(\"\\nCombined Dataframe:\")\n",
        "print(combined_df.head())\n",
        "print(combined_df.info())"
      ],
      "metadata": {
        "colab": {
          "base_uri": "https://localhost:8080/"
        },
        "id": "7uM0PzS7P2A4",
        "outputId": "deb26513-7715-44c7-d0c4-88970fa906e9"
      },
      "execution_count": null,
      "outputs": [
        {
          "output_type": "stream",
          "name": "stdout",
          "text": [
            "\n",
            "Combined Dataframe:\n",
            "                                               title  \\\n",
            "0  Ben Stein Calls Out 9th Circuit Court: Committ...   \n",
            "1  Trump drops Steve Bannon from National Securit...   \n",
            "2  Puerto Rico expects U.S. to lift Jones Act shi...   \n",
            "3   OOPS: Trump Just Accidentally Confirmed He Le...   \n",
            "4  Donald Trump heads for Scotland to reopen a go...   \n",
            "\n",
            "                                                text       subject  \\\n",
            "0  21st Century Wire says Ben Stein, reputable pr...       US_News   \n",
            "1  WASHINGTON (Reuters) - U.S. President Donald T...  politicsNews   \n",
            "2  (Reuters) - Puerto Rico Governor Ricardo Rosse...  politicsNews   \n",
            "3  On Monday, Donald Trump once again embarrassed...          News   \n",
            "4  GLASGOW, Scotland (Reuters) - Most U.S. presid...  politicsNews   \n",
            "\n",
            "                  date  label  \n",
            "0    February 13, 2017      0  \n",
            "1       April 5, 2017       1  \n",
            "2  September 27, 2017       1  \n",
            "3         May 22, 2017      0  \n",
            "4       June 24, 2016       1  \n",
            "<class 'pandas.core.frame.DataFrame'>\n",
            "RangeIndex: 44898 entries, 0 to 44897\n",
            "Data columns (total 5 columns):\n",
            " #   Column   Non-Null Count  Dtype \n",
            "---  ------   --------------  ----- \n",
            " 0   title    44898 non-null  object\n",
            " 1   text     44898 non-null  object\n",
            " 2   subject  44898 non-null  object\n",
            " 3   date     44898 non-null  object\n",
            " 4   label    44898 non-null  int64 \n",
            "dtypes: int64(1), object(4)\n",
            "memory usage: 1.7+ MB\n",
            "None\n"
          ]
        }
      ]
    },
    {
      "cell_type": "markdown",
      "source": [
        "\n",
        "**For statistical Model**  \n",
        "This is the crucial step. Text data needs to be cleaned and transformed before it can be used in a model. The techniques I will be used are:\n",
        "\n",
        "\n",
        "*   Cleaning:\n",
        "  \n",
        "   *   Remove punctuation and special charaters.\n",
        "   *   Convert all text to lowercase.\n",
        "   *   Remove stop words(common words like \"the\",\"a\",\"is\", etc. that don't carry much meaning)\n",
        "   *    Handle any encoding issues.\n",
        "*   Tokenization: split the text into individual words or \"token\".\n",
        "\n",
        "* Normalization:\n",
        "   * Stemming: Reduce words to their root form\n",
        "   * Lemmatization: Similar to stemming, but aims to produce original words.(eg.\"better\" to \"good\")\n",
        "\n",
        "\n",
        "\n"
      ],
      "metadata": {
        "id": "8Mwja7JvMcUD"
      }
    },
    {
      "cell_type": "markdown",
      "source": [
        " Breakdown of the below code Text Preprocessing does:\n",
        "* nltk.download('stopwords')\n",
        "nltk.download('wordnet') are the necessary resources from the Natural Language Toolkit(NLTK) library.\n",
        "* lemamatizer= WordNetLemmatizer(): Initilizes the WordNet Lemmatizer.\n",
        "* stop_words = set(stopwords.words('english')): Get the set of English stop words.\n",
        "* preprocess_text(text) function:\n",
        "  *  text.lower():Converts text to lowercase.\n",
        "  * re.sub(r '[^\\w\\s]','',text): Remove punctuation.\n",
        "  * re.sub(r'\\d+','',text):Removes digits.\n",
        "  * text.split(): Tokenizes the text(splits it into words).\n",
        "  * [lemmatizer.lemmatize(word) for word in tokens if word not in stop_words]: Lemmatize each word and removes stop words.\n",
        "  * ''.jouin(tokens): Joins the processed tokens back into a string.\n",
        "  *The isinstance(text,str) check handles potential non-string data, prevventing errors.\n",
        "  * combined_df['text'] = combined_df['text'].apply(preprocess_text): Applies the preprocess_text function to the 'text' column of the DataFrame, cleaning and normalizing the text.\n",
        " * combined_df['title'] = combined_df['title'].apply(preprocess_text): Does the same for the 'title' column."
      ],
      "metadata": {
        "id": "gCoOInpBS-AW"
      }
    },
    {
      "cell_type": "code",
      "source": [
        "# 2. Text Preprocessing\n",
        "nltk.download('stopwords')\n",
        "nltk.download('wordnet')\n",
        "lemmatizer = WordNetLemmatizer()\n",
        "stop_words = set(stopwords.words('english'))\n",
        "\n",
        "def preprocess_text(text):\n",
        "    if isinstance(text, str):  # Ensure text is a string\n",
        "        text = text.lower()\n",
        "        text = re.sub(r'[^\\w\\s]', '', text)  # Remove punctuation\n",
        "        text = re.sub(r'\\d+', '', text)  # Remove digits\n",
        "        tokens = text.split()\n",
        "        tokens = [lemmatizer.lemmatize(word) for word in tokens if word not in stop_words]\n",
        "        return ' '.join(tokens)\n",
        "    else:\n",
        "        return ''  # Return empty string for non-string values\n",
        "\n",
        "combined_df['text'] = combined_df['text'].apply(preprocess_text)\n",
        "combined_df['title'] = combined_df['title'].apply(preprocess_text)\n",
        "\n",
        "print(\"\\nProcessed Text Examples:\")\n",
        "print(combined_df[['title', 'text']].head())"
      ],
      "metadata": {
        "colab": {
          "base_uri": "https://localhost:8080/"
        },
        "id": "Go7JksvgQA_M",
        "outputId": "3fd186a2-46cc-4b35-8eca-e1849d5821d9"
      },
      "execution_count": null,
      "outputs": [
        {
          "output_type": "stream",
          "name": "stderr",
          "text": [
            "[nltk_data] Downloading package stopwords to /root/nltk_data...\n",
            "[nltk_data]   Package stopwords is already up-to-date!\n",
            "[nltk_data] Downloading package wordnet to /root/nltk_data...\n",
            "[nltk_data]   Package wordnet is already up-to-date!\n"
          ]
        },
        {
          "output_type": "stream",
          "name": "stdout",
          "text": [
            "\n",
            "Processed Text Examples:\n",
            "                                               title  \\\n",
            "0  ben stein call th circuit court committed coup...   \n",
            "1  trump drop steve bannon national security council   \n",
            "2  puerto rico expects u lift jones act shipping ...   \n",
            "3  oops trump accidentally confirmed leaked israe...   \n",
            "4      donald trump head scotland reopen golf resort   \n",
            "\n",
            "                                                text  \n",
            "0  st century wire say ben stein reputable profes...  \n",
            "1  washington reuters u president donald trump re...  \n",
            "2  reuters puerto rico governor ricardo rossello ...  \n",
            "3  monday donald trump embarrassed country accide...  \n",
            "4  glasgow scotland reuters u presidential candid...  \n"
          ]
        }
      ]
    },
    {
      "cell_type": "markdown",
      "source": [
        "* 6.Baseline Performance\n",
        "Models can't work directly with text; so that need to convert it into numerical representation that our machine learning models can understand.\n",
        "I'll demonstrate using TF-IDF(Term Frequency-Inverse Document Frequency), which is a very common and effective technique for text classification. And Also split the data into training and testing sets.\n",
        "\n",
        "  Why I used TF-IDF:\n",
        "  * TF-IDF(Term Frequency-Inverse Document Frequency): Weights words based on how frequently they appear in a single document versus across all documents. This helps to give more importance to words that are distinctive to a particular news article.\n",
        "\n",
        "\n",
        "  For statistical models: use TF-IDF\n"
      ],
      "metadata": {
        "id": "aIcRse8oN21c"
      }
    },
    {
      "cell_type": "code",
      "source": [
        "from sklearn.model_selection import train_test_split\n",
        "from sklearn.feature_extraction.text import TfidfVectorizer\n",
        "from scipy.sparse import hstack # Needed for combining sparse matrices\n"
      ],
      "metadata": {
        "id": "_SAHFRkmVU_o"
      },
      "execution_count": null,
      "outputs": []
    },
    {
      "cell_type": "markdown",
      "source": [
        "### TF-IDF Vecotrization:\n",
        "* This TfidfVectorizer class from scikit-learn converts text into TF-IDF features.\n",
        "\n",
        "* max_features=500: This limits the number of features(words) to the top 500 most frequent. can tune the parameter. Using too many features can lead to perfomance issues and overfitting.\n",
        "\n",
        "* tfidf_vectorizer.fit_transform(combined_df['text']): This does two things:\n",
        "   * fit: It learns the vocabulary and IDF(Inverse Document Frequency) from  training data.\n",
        "   * transform: It converts the text in the 'text' column into a TF-IDF matrix.\n"
      ],
      "metadata": {
        "id": "cdXvE7YLeFFP"
      }
    },
    {
      "cell_type": "code",
      "source": [
        "# 3. Feature Extraction (TF-IDF)\n",
        "tfidf_vectorizer = TfidfVectorizer(max_features=500)   #change from 10000\n",
        "tfidf_text = tfidf_vectorizer.fit_transform(combined_df['text'])\n",
        "tfidf_title = tfidf_vectorizer.fit_transform(combined_df['title']) #create TFIDF matrix for title"
      ],
      "metadata": {
        "id": "rVULH_OWdwwG"
      },
      "execution_count": null,
      "outputs": []
    },
    {
      "cell_type": "markdown",
      "source": [
        "\n",
        "* hstack: Combines the TF-IDF features from 'text' and 'title' horizontally. This is one way to incorporate both text and title information.\n"
      ],
      "metadata": {
        "id": "jvLoJ3lSinhc"
      }
    },
    {
      "cell_type": "code",
      "source": [
        "# Combine TF-IDF features\n",
        "from scipy.sparse import hstack\n",
        "tfidf_combined = hstack([tfidf_text, tfidf_title])\n"
      ],
      "metadata": {
        "id": "TZoe0LgAd0uR"
      },
      "execution_count": null,
      "outputs": []
    },
    {
      "cell_type": "code",
      "source": [
        "# Get the labels\n",
        "labels = combined_df['label']\n",
        "print(labels)"
      ],
      "metadata": {
        "colab": {
          "base_uri": "https://localhost:8080/"
        },
        "id": "vd9viF9Jd2fm",
        "outputId": "f59f590d-31c1-44d6-e504-752b0ef85a4f"
      },
      "execution_count": null,
      "outputs": [
        {
          "output_type": "stream",
          "name": "stdout",
          "text": [
            "0        0\n",
            "1        1\n",
            "2        1\n",
            "3        0\n",
            "4        1\n",
            "        ..\n",
            "44893    0\n",
            "44894    1\n",
            "44895    1\n",
            "44896    0\n",
            "44897    0\n",
            "Name: label, Length: 44898, dtype: int64\n"
          ]
        }
      ]
    },
    {
      "cell_type": "markdown",
      "source": [
        "## Data Splitting:\n",
        "* train_test_split function from scikit-learn to split the data into training and testing sets.\n",
        "* test_size=0.2 means 20% of the data will be used for testing and the left of 80% for training.\n",
        "* random_state=42: Again, this ensures consistent splitting if run the code multiple times."
      ],
      "metadata": {
        "id": "IcAehVLNivxj"
      }
    },
    {
      "cell_type": "code",
      "source": [
        "# Split Data into Training and Testing Sets\n",
        "X_train, X_test, y_train, y_test = train_test_split(tfidf_combined, labels, test_size=0.2, random_state=42)\n",
        "\n",
        "print(\"\\nFeature Extraction and Data Splitting Done!\")\n",
        "print(\"X_train shape:\", X_train.shape)\n",
        "print(\"X_test shape:\", X_test.shape)\n",
        "print(\"y_train shape:\", y_train.shape)\n",
        "print(\"y_test shape:\", y_test.shape)"
      ],
      "metadata": {
        "colab": {
          "base_uri": "https://localhost:8080/"
        },
        "id": "OYrsfHwad4tv",
        "outputId": "0d236bb2-d235-4f5c-f0e2-e2b4475c8a8e"
      },
      "execution_count": null,
      "outputs": [
        {
          "output_type": "stream",
          "name": "stdout",
          "text": [
            "\n",
            "Feature Extraction and Data Splitting Done!\n",
            "X_train shape: (35918, 1000)\n",
            "X_test shape: (8980, 1000)\n",
            "y_train shape: (35918,)\n",
            "y_test shape: (8980,)\n"
          ]
        }
      ]
    },
    {
      "cell_type": "markdown",
      "source": [
        "*  Breakdown of the output:\n",
        "  * X_train shape((35918, 20000) and X_text shape means trainging data has 35,918 samples (news articles) and each sample has 20,000 features(the TF-IDF values for the top 10,000 words in the text and 10,000 for the title).\n",
        "  * Similaryly, testing data(X_test) has 8,980 samples and the same number of features.\n",
        "  * The number of featuures(20,000) matches what I set in TfidfVectorizer(max_features=10000) * 2 (because I  combined text and title).\n",
        "  * y_train shape: (35918,) and y_test shape: (8980,)\n",
        "  This shows that the corresponding labels for  training and testing data. y_train contains the labels (0 or 1) for the 35,918 training articles, and y_test contains the labels for the 8,980 testing articles\n",
        "  * The number of labels matches the number of samples in X_train and X_test, which is exactly what I want.\n",
        "  * In summary: The shapes of the data indicate that the feature extraction and data splitting were performed correctly.\n",
        "  *  Now I have:\n",
        "\n",
        "    * A training set (X_train, y_train) to train  fake news detection model.\n",
        "    * A testing set (X_test, y_test) to evaluate the performance of  trained model on unseen data."
      ],
      "metadata": {
        "id": "smbibceojShr"
      }
    },
    {
      "cell_type": "markdown",
      "source": [
        "** Model Selection and Training**\n",
        "Based on the coursework description, the next step is to establish a baseline model and then implement the comparative classification methodology."
      ],
      "metadata": {
        "id": "96hO1XpxPOPg"
      }
    },
    {
      "cell_type": "markdown",
      "source": [
        "# Baseline Model: Multinomial Naive Bayes:"
      ],
      "metadata": {
        "id": "evPPyOdEls-V"
      }
    },
    {
      "cell_type": "markdown",
      "source": [
        "#### Import necessary libraies: MultinomialNB for the model and accuarcy_score, classification_report for evaluation."
      ],
      "metadata": {
        "id": "UMvNkEg-mO3S"
      }
    },
    {
      "cell_type": "code",
      "source": [
        "from sklearn.naive_bayes import MultinomialNB\n",
        "from sklearn.metrics import accuracy_score, classification_report"
      ],
      "metadata": {
        "id": "FWKOHMxZKab7"
      },
      "execution_count": null,
      "outputs": []
    },
    {
      "cell_type": "markdown",
      "source": [
        "What following code does:\n",
        "\n",
        "**Initialize the model**: Creates an instance of the MulinomialNB classifier.\n",
        "\n",
        "**Trains the model:** fit(X_train, y_train) trains the Navie Bayes models using training data (the TF-IDF features and the corresponding labels)\n",
        "Makes predictions: predict(X_test) uses the trained model to predict the lables for test data.\n",
        "\n",
        "**Evaluate the model:**\n",
        "  * accuarcy_score: Calculate the overall accuarcy of the model's predictions.\n",
        "  * classification_report: Provides a more detailed evaluation, including precision, recall, F1-score for each class (fake and true) as well as overall metris.\n",
        "\n",
        "\n"
      ],
      "metadata": {
        "id": "aoTg8-A3mHLb"
      }
    },
    {
      "cell_type": "code",
      "source": [
        "# Initialize the Multinomial Naive Bayes classifier\n",
        "baseline_model = MultinomialNB()\n",
        "\n",
        "# Train the baseline model\n",
        "baseline_model.fit(X_train, y_train)\n",
        "\n",
        "# Make predictions on the test set\n",
        "baseline_predictions = baseline_model.predict(X_test)\n",
        "\n",
        "# Evaluate the baseline model\n",
        "baseline_accuracy = accuracy_score(y_test, baseline_predictions)\n",
        "print(\"Baseline Model (Multinomial Naive Bayes) Accuracy:\", baseline_accuracy)\n",
        "print(\"\\nBaseline Model (Multinomial Naive Bayes) Classification Report:\")\n",
        "print(classification_report(y_test, baseline_predictions))"
      ],
      "metadata": {
        "colab": {
          "base_uri": "https://localhost:8080/"
        },
        "id": "qfXMK1KzmClj",
        "outputId": "e9f68b8a-eba0-42ad-9ca7-774dcc7456c5"
      },
      "execution_count": null,
      "outputs": [
        {
          "output_type": "stream",
          "name": "stdout",
          "text": [
            "Baseline Model (Multinomial Naive Bayes) Accuracy: 0.9496659242761692\n",
            "\n",
            "Baseline Model (Multinomial Naive Bayes) Classification Report:\n",
            "              precision    recall  f1-score   support\n",
            "\n",
            "           0       0.95      0.95      0.95      4710\n",
            "           1       0.95      0.94      0.95      4270\n",
            "\n",
            "    accuracy                           0.95      8980\n",
            "   macro avg       0.95      0.95      0.95      8980\n",
            "weighted avg       0.95      0.95      0.95      8980\n",
            "\n"
          ]
        }
      ]
    },
    {
      "cell_type": "markdown",
      "source": [
        "#6.  Baseline Model performance: Multinomial Naive Bayes\n",
        "The performance of the baseline model on the test set was evaluated using accuarcy and a detailed classlification report.\n",
        "\n",
        "Multinomial Naive Bayes model achieved an overall accuracy of 94.94%. This indicates that the model correctly classified approximately 94.94% of the news articles in the test set.\n",
        "\n",
        "The classification report provides a more granular view of the model's performance for each class:\n",
        "\n",
        "**Fake News (Class 0)**: The model achieved a precision of 0.95, recall of 0.95, and an F1-score of 0.95. This demonstrates that the model is effective at correctly identifying fake news articles with minimal false positives and false negatives.\n",
        "**True News (Class 1)**: The model obtained a precision of 0.95, recall of 0.94, and an F1-score of 0.95 for true news articles. These results are comparable to the fake news classification metrics, indicating a balanced performance across both classes.\n",
        "\n",
        "\n",
        "In conclusion, the Multinomial Naive Bayes baseline model demonstrated strong performance in classifying fake and true news, achieving high accuracy and balanced precision and recall for both classes. These results establish a solid foundation for evaluating the effectiveness of more complex models implemented in this study.\n"
      ],
      "metadata": {
        "id": "cGtnzeAzwfAI"
      }
    },
    {
      "cell_type": "markdown",
      "source": [
        "# 7. Comparative Classification\n",
        "##Model  1: Statistical Model: (Logistic Regression with TF-IDF)"
      ],
      "metadata": {
        "id": "iqkh4lkPzMTU"
      }
    },
    {
      "cell_type": "code",
      "source": [
        "from sklearn.linear_model import LogisticRegression\n",
        "\n",
        "# Initialize the Logistic Regression model\n",
        "logistic_regression_model = LogisticRegression(max_iter=1000, random_state=42)  # Increase max_iter if needed\n",
        "\n",
        "# Train the Logistic Regression model\n",
        "logistic_regression_model.fit(X_train, y_train)\n",
        "\n",
        "# Make predictions on the test set\n",
        "logistic_regression_predictions = logistic_regression_model.predict(X_test)\n",
        "\n",
        "# Evaluate the Logistic Regression model\n",
        "logistic_regression_accuracy = accuracy_score(y_test, logistic_regression_predictions)\n",
        "print(\"\\nModel 1: Logistic Regression Accuracy:\", logistic_regression_accuracy)\n",
        "print(\"\\nModel 1: Logistic Regression Classification Report:\")\n",
        "print(classification_report(y_test, logistic_regression_predictions))"
      ],
      "metadata": {
        "colab": {
          "base_uri": "https://localhost:8080/"
        },
        "id": "wNxxhvDnmExS",
        "outputId": "02dd8b31-1afc-434e-c667-247578415eef"
      },
      "execution_count": null,
      "outputs": [
        {
          "output_type": "stream",
          "name": "stdout",
          "text": [
            "\n",
            "Model 1: Logistic Regression Accuracy: 0.9903118040089087\n",
            "\n",
            "Model 1: Logistic Regression Classification Report:\n",
            "              precision    recall  f1-score   support\n",
            "\n",
            "           0       0.99      0.99      0.99      4710\n",
            "           1       0.99      0.99      0.99      4270\n",
            "\n",
            "    accuracy                           0.99      8980\n",
            "   macro avg       0.99      0.99      0.99      8980\n",
            "weighted avg       0.99      0.99      0.99      8980\n",
            "\n"
          ]
        }
      ]
    },
    {
      "cell_type": "markdown",
      "source": [
        "##Comparative Classification Methodology: Model 1 (Traditional - Logistic Regression)\n",
        "\n",
        "A Logistic Regression model was implemented as the first comparative classifier. This traditional machine learning model was trained on the same TF-IDF vectorized text data as the baseline, maintaining the 80/20 train-test split. The model's performance was evaluated using accuracy, precision, recall, and F1-score on the unseen test set.\n",
        "\n",
        "The Logistic Regression model achieved a remarkable overall accuarcy of 99.19%. This represents a significant improvement over the Multinomial Naive Bayes baseline model (which had an accuarcy of 94.94%)\n",
        "\n",
        "The detailed classification report further highlights the model's strong performance across both classes:\n",
        "\n",
        "* Fake News (Class 0): The model demonstrated excellent performance for fake news detection, with a precision of 0.99, recall of 0.99, and an F1-score of 0.99. This indicates a very high rate of correctly identified fake news articles with minimal misclassifications.\n",
        "*\n",
        "True News (Class 1): Similarly, for true news articles, the model achieved a precision of 0.99, recall of 0.99, and an F1-score of 0.99. This consistent high performance across both classes suggests that the Logistic Regression model is highly effective and balanced in its classification capabilities.\n",
        "\n",
        "\n",
        "Discussion:\n",
        "\n",
        "The Logistic Regression model significantly outperforms the Multinomial Naive Bayes baseline across all key metrics. Its near-perfect precision, recall, and F1-scores for both fake and true news categories indicate that Logistic Regression, when applied to TF-IDF features, is a highly robust and accurate traditional machine learning approach for this fake news detection task. This strong performance sets a high benchmark for the subsequent deep learning model."
      ],
      "metadata": {
        "id": "C8qrB_Tb0L_I"
      }
    },
    {
      "cell_type": "markdown",
      "source": [
        "## Model 2: Embedding-based Model: Deep Learning (LSTM-based classifier)"
      ],
      "metadata": {
        "id": "PvySpMI3zfTO"
      }
    },
    {
      "cell_type": "markdown",
      "source": [
        "This part involve a few more steps since deep learning models require the text data to be in a specific numerical format.\n"
      ],
      "metadata": {
        "id": "-Qg1_IorCR9Z"
      }
    },
    {
      "cell_type": "markdown",
      "source": [
        "This section of the code imports the necessary Python libraries to build and train a deep learning model, specifically an LSTM-based classifier, for fake news detection.\n",
        "* import tensorflow as tf: This line imports the TensorFlow library, which is a powerful open-source platform for building and training machine learning models, especially neural networks. It's aliased as tf for convenience.\n",
        "* from tensorflow.keras.preprocessing.text import Tokenizer: This imports the Tokenizer class from TensorFlow's Keras API. The Tokenizer is used to prepare text data for neural networks. It converts text into sequences of integers, where each integer represents a word.\n",
        "* from tensorflow.keras.preprocessing.sequence import pad_sequences: This imports the pad_sequences function. Deep learning models, particularly LSTMs, require input sequences to have a uniform length. This function is used to pad (add zeros to) or truncate (cut off) sequences to a specified maximum length.\n",
        "* from tensorflow.keras.models import Sequential: This imports the Sequential model class from Keras. A Sequential model is a linear stack of layers, which is a common and easy way to build neural networks.\n",
        "* from tensorflow.keras.layers import Embedding, LSTM, Dense, Dropout: This line imports several essential layer types used in building the neural network:\n",
        "Embedding: This layer is used to create dense vector representations (embeddings) of words. It maps each integer word token to a fixed-size vector that captures semantic relationships.\n",
        "LSTM: This stands for Long Short-Term Memory. LSTM layers are a type of recurrent neural network (RNN) that are particularly well-suited for processing sequential data like text, as they can remember information over long sequences.\n",
        "Dense: This represents a fully connected neural network layer, where each neuron in the layer is connected to every neuron in the previous layer.\n",
        "Dropout: This is a regularization technique where a random percentage of neurons are ignored during training. This helps prevent the model from overfitting to the training data.\n",
        "* from sklearn.model_selection import train_test_split: This imports the train_test_split function from the scikit-learn library. Although not directly used in the model building part itself, it's crucial for splitting the data into training and testing sets before feeding it to the neural network.\n",
        "* import pandas as pd: This imports the pandas library, which is widely used for data manipulation and analysis. It's used earlier in the notebook to load and process the dataset. [3]\n",
        "\n",
        "\n",
        "These imported libraries provide the building blocks for creating, preparing data for, training, and evaluating the deep learning model for the fake news detection task."
      ],
      "metadata": {
        "id": "GK_m_K1xHJTK"
      }
    },
    {
      "cell_type": "code",
      "source": [
        "import tensorflow as tf\n",
        "from tensorflow.keras.preprocessing.text import Tokenizer\n",
        "from tensorflow.keras.preprocessing.sequence import pad_sequences\n",
        "from tensorflow.keras.models import Sequential\n",
        "from tensorflow.keras.layers import Embedding, LSTM, Dense, Dropout\n",
        "from sklearn.model_selection import train_test_split\n",
        "import pandas as pd"
      ],
      "metadata": {
        "id": "gwFACItwzbC4"
      },
      "execution_count": null,
      "outputs": []
    },
    {
      "cell_type": "code",
      "source": [
        "\n",
        "# Split the *original* text data and labels into training and testing sets\n",
        "# Use the text column directly from the combined_df before TF-IDF transformation\n",
        "X_train_text, X_test_text, y_train_dl, y_test_dl = train_test_split(\n",
        "    combined_df['text'], combined_df['label'], test_size=0.2, random_state=42\n",
        ")"
      ],
      "metadata": {
        "id": "vg2ysXd_C1Tt"
      },
      "execution_count": null,
      "outputs": []
    },
    {
      "cell_type": "markdown",
      "source": [
        "* Explanation:\n",
        "\n",
        "  1. Tokenization and Sequencing:\n",
        "  Tokenizer: This Keras class converts text into sequences of integers.\n",
        "  num_words=max_vocab: Keeps only the top max_vocab most frequent words.\n",
        "  oov_token=\"<OOV>\": Assigns the \"&lt;OOV>\" token to out-of-vocabulary words.\n",
        "  tokenizer.fit_on_texts(X_train['text']): Trains the tokenizer on  training text data. It learns the vocabulary.\n",
        "  X_train_sequences = tokenizer.texts_to_sequences(X_train['text']): Converts the training text to sequences of integers, where each integer represents a word.\n",
        "  We do the same for the test set.\n",
        "  pad_sequences: Ensures that all sequences have the same length. LSTM networks require inputs to have a consistent shape.\n",
        "  maxlen=max_length: Sets the maximum length of all sequences. Sequences longer than this are truncated, and shorter ones are padded.\n",
        "  truncating='post' and padding='post' : Specifies that truncation and padding are applied at the end of the sequences."
      ],
      "metadata": {
        "id": "7n041HblD5CJ"
      }
    },
    {
      "cell_type": "code",
      "source": [
        "# 1. Tokenization and Sequencing\n",
        "\n",
        "max_vocab = 10000  # Maximum number of words in the vocabulary\n",
        "tokenizer = Tokenizer(num_words=max_vocab, oov_token=\"<OOV>\")  # Initialize tokenizer\n",
        "\n",
        "# Train the tokenizer on the training text data\n",
        "tokenizer.fit_on_texts(X_train_text)\n",
        "word_index = tokenizer.word_index # Save word index for reference\n",
        "\n",
        "\n",
        "# Convert texts to sequences for both training and testing sets\n",
        "X_train_sequences = tokenizer.texts_to_sequences(X_train_text)\n",
        "X_test_sequences = tokenizer.texts_to_sequences(X_test_text)\n",
        "\n",
        "max_length = 200 # Maximum sequence length.\n",
        "\n",
        "# Pad sequences for training and testing sets\n",
        "X_train_padded = pad_sequences(X_train_sequences, maxlen=max_length, truncating='post', padding='post')\n",
        "X_test_padded = pad_sequences(X_test_sequences, maxlen=max_length, truncating='post', padding='post') # Also pad X_test\n",
        "\n",
        "print(\"\\nTokenization and Sequencing Done!\")\n",
        "print(\"X_train_padded shape:\", X_train_padded.shape)\n",
        "print(\"X_test_padded shape:\", X_test_padded.shape)\n",
        "print(\"y_train_dl shape:\", y_train_dl.shape)\n",
        "print(\"y_test_dl shape:\", y_test_dl.shape)"
      ],
      "metadata": {
        "colab": {
          "base_uri": "https://localhost:8080/"
        },
        "id": "a9AXO3ZdCQmm",
        "outputId": "d02a7329-6274-43b6-c740-e9d12a96a52f"
      },
      "execution_count": null,
      "outputs": [
        {
          "output_type": "stream",
          "name": "stdout",
          "text": [
            "\n",
            "Tokenization and Sequencing Done!\n",
            "X_train_padded shape: (35918, 200)\n",
            "X_test_padded shape: (8980, 200)\n",
            "y_train_dl shape: (35918,)\n",
            "y_test_dl shape: (8980,)\n"
          ]
        }
      ]
    },
    {
      "cell_type": "markdown",
      "source": [
        "2. Built the LSTM model:\n",
        "  * Sequential: Creates a sequential model(Layers are arranged in a simple stack).\n",
        "  * Embedding: This is the first layer. It coverts the integer word tokens into dense vectors(word embeddings).\n",
        "    * max_vocab: The size of vocab\n",
        "    * embedding_dim: The dimensionality of the word embeddings(how many dimensions to represent each word)\n",
        "    * input_length=max_length: The length of the input sequences.\n",
        "\n",
        "  * LSTM: Long Short-Term Mermory layer, a type of recurrent neural network (RNN) good at processing sequential data.\n",
        "   * 128,64 : Number of units in the LSTM layers.\n",
        "   * dropout=0.2, recurrent_dropout=0.2: Dropout is a regularization technique to prevent overfitting. recurrent_dropout is specific to LSTM layers.\n",
        "   * return_sequences=TrueL Important for stacking LSTM layers. It makes the first LSTM layer output a sequence for each word, which is what the next LSTM layer expects as input.\n",
        "  * Dense: A fully connected layer.\n",
        "   *  64, activation='relu':  A dense layer with 64 units and ReLU activcation.\n",
        "   * 1, activation='sigmoid': The final output layer. Since this is binary classification (fake or true), we use one unit and the sigmoid activation function to get a probability between 0 and 1.\n",
        "  * Dropout(0.5): Another dropout layer for regularization."
      ],
      "metadata": {
        "id": "n1uyLI8PL8En"
      }
    },
    {
      "cell_type": "code",
      "source": [
        "import numpy as np\n",
        "# 2. Build the LSTM Model\n",
        "embedding_dim = 128  # Dimension of the word embeddings\n",
        "\n",
        "model = Sequential([\n",
        "    Embedding(max_vocab, embedding_dim, input_length=max_length),\n",
        "    LSTM(128, dropout=0.2, recurrent_dropout=0.2, return_sequences=True), # First LSTM layer\n",
        "    LSTM(64, dropout=0.2, recurrent_dropout=0.2),  # Second LSTM layer\n",
        "    Dense(64, activation='relu'),\n",
        "    Dropout(0.5),\n",
        "    Dense(1, activation='sigmoid')  # Output layer for binary classification\n",
        "])\n",
        "\n",
        "\n",
        "# *** NEW CODE TO BUILD THE MODEL BEFORE SUMMARY ***\n",
        "# Create a dummy input (a single batch of the correct shape)\n",
        "dummy_input = np.zeros((1, max_length))  # Batch size 1, sequence length max_length\n",
        "\n",
        "# Pass the dummy input through the model to build it\n",
        "model.build(dummy_input.shape)  # Use .build for Sequential model"
      ],
      "metadata": {
        "id": "4v7wZe1FCfpp"
      },
      "execution_count": null,
      "outputs": []
    },
    {
      "cell_type": "markdown",
      "source": [
        "3. Complie and Train the model:\n",
        "  * model.compile(..): Configures the model for training.\n",
        "    * optimizer='binary_crossentropy': The appropriate loss function for binary classification.\n",
        "    * metrics=['accuarcy']: We'll track accuarcy during training.\n",
        "  * model.fit(..) :Trains the Model.\n",
        "    * ephochs=5: Number of times to iterate over the entire training dataset.\n",
        "    * batch_size=64: Number of samples per gradient update.\n",
        "\n",
        "    * validation_data=(X_test_padded, y_test): Evaluates the model on the test set after each epoch to monitor performance and prevent overfitting.\n",
        "\n",
        "\n",
        "\n",
        "4. Evaluate the Model:\n",
        " * model.evaluate(...): Evaluate the trained mode; on the test data and returns the loss and accuarcy.\n",
        " * classification_report, confusion_matrix: Provides more detailed evaluation metrics.\n",
        "    * y_pred_dl=model.predict(X_test_padded): Gets the model's predictions (probabilities).\n",
        "    * np.round(..):Converts probabilities to binary predictions(0 or 1)\n"
      ],
      "metadata": {
        "id": "SI_epNwEKF8v"
      }
    },
    {
      "cell_type": "code",
      "source": [
        "# 3. Compile and Train the Model\n",
        "model.compile(optimizer='adam', loss='binary_crossentropy', metrics=['accuracy'])\n",
        "print(model.summary())\n",
        "\n",
        "#4 Train and Evaluate the Model\n",
        "epochs = 5\n",
        "batch_size = 64\n",
        "history = model.fit(X_train_padded, y_train, epochs=epochs, batch_size=batch_size, validation_data=(X_test_padded, y_test_dl)) # Use the correct y)train_dl and y_test_dl\n",
        "\n",
        "# 4. Evaluate the Model\n",
        "loss, accuracy = model.evaluate(X_test_padded, y_test_dl)  #Use the correct y_test_dl\n",
        "print(\"\\nDeep Learning Model (LSTM) Accuracy:\", accuracy)\n",
        "\n",
        "from sklearn.metrics import classification_report, confusion_matrix\n",
        "import numpy as np\n",
        "\n",
        "y_pred_dl = model.predict(X_test_padded)\n",
        "y_pred_dl = np.round(y_pred_dl).astype(int)\n",
        "print(\"\\nDeep Learning Model (LSTM) Classification Report:\")\n",
        "print(classification_report(y_test_dl, y_pred_dl))  #Use the correct y_test_dl\n",
        "\n",
        "print(\"\\nDeep Learning Model (LSTM) Confusion Matrix:\")\n",
        "print(confusion_matrix(y_test_dl, y_pred_dl))   #Use the correct y_test_dl"
      ],
      "metadata": {
        "colab": {
          "base_uri": "https://localhost:8080/",
          "height": 842
        },
        "id": "SiVAGHMkDg4I",
        "outputId": "9c3d30c6-33d7-4095-a62e-62f67a46a247"
      },
      "execution_count": null,
      "outputs": [
        {
          "output_type": "display_data",
          "data": {
            "text/plain": [
              "\u001b[1mModel: \"sequential_1\"\u001b[0m\n"
            ],
            "text/html": [
              "<pre style=\"white-space:pre;overflow-x:auto;line-height:normal;font-family:Menlo,'DejaVu Sans Mono',consolas,'Courier New',monospace\"><span style=\"font-weight: bold\">Model: \"sequential_1\"</span>\n",
              "</pre>\n"
            ]
          },
          "metadata": {}
        },
        {
          "output_type": "display_data",
          "data": {
            "text/plain": [
              "┏━━━━━━━━━━━━━━━━━━━━━━━━━━━━━━━━━┳━━━━━━━━━━━━━━━━━━━━━━━━┳━━━━━━━━━━━━━━━┓\n",
              "┃\u001b[1m \u001b[0m\u001b[1mLayer (type)                   \u001b[0m\u001b[1m \u001b[0m┃\u001b[1m \u001b[0m\u001b[1mOutput Shape          \u001b[0m\u001b[1m \u001b[0m┃\u001b[1m \u001b[0m\u001b[1m      Param #\u001b[0m\u001b[1m \u001b[0m┃\n",
              "┡━━━━━━━━━━━━━━━━━━━━━━━━━━━━━━━━━╇━━━━━━━━━━━━━━━━━━━━━━━━╇━━━━━━━━━━━━━━━┩\n",
              "│ embedding_1 (\u001b[38;5;33mEmbedding\u001b[0m)         │ (\u001b[38;5;34m1\u001b[0m, \u001b[38;5;34m200\u001b[0m, \u001b[38;5;34m128\u001b[0m)          │     \u001b[38;5;34m1,280,000\u001b[0m │\n",
              "├─────────────────────────────────┼────────────────────────┼───────────────┤\n",
              "│ lstm_2 (\u001b[38;5;33mLSTM\u001b[0m)                   │ (\u001b[38;5;34m1\u001b[0m, \u001b[38;5;34m200\u001b[0m, \u001b[38;5;34m128\u001b[0m)          │       \u001b[38;5;34m131,584\u001b[0m │\n",
              "├─────────────────────────────────┼────────────────────────┼───────────────┤\n",
              "│ lstm_3 (\u001b[38;5;33mLSTM\u001b[0m)                   │ (\u001b[38;5;34m1\u001b[0m, \u001b[38;5;34m64\u001b[0m)                │        \u001b[38;5;34m49,408\u001b[0m │\n",
              "├─────────────────────────────────┼────────────────────────┼───────────────┤\n",
              "│ dense_2 (\u001b[38;5;33mDense\u001b[0m)                 │ (\u001b[38;5;34m1\u001b[0m, \u001b[38;5;34m64\u001b[0m)                │         \u001b[38;5;34m4,160\u001b[0m │\n",
              "├─────────────────────────────────┼────────────────────────┼───────────────┤\n",
              "│ dropout_1 (\u001b[38;5;33mDropout\u001b[0m)             │ (\u001b[38;5;34m1\u001b[0m, \u001b[38;5;34m64\u001b[0m)                │             \u001b[38;5;34m0\u001b[0m │\n",
              "├─────────────────────────────────┼────────────────────────┼───────────────┤\n",
              "│ dense_3 (\u001b[38;5;33mDense\u001b[0m)                 │ (\u001b[38;5;34m1\u001b[0m, \u001b[38;5;34m1\u001b[0m)                 │            \u001b[38;5;34m65\u001b[0m │\n",
              "└─────────────────────────────────┴────────────────────────┴───────────────┘\n"
            ],
            "text/html": [
              "<pre style=\"white-space:pre;overflow-x:auto;line-height:normal;font-family:Menlo,'DejaVu Sans Mono',consolas,'Courier New',monospace\">┏━━━━━━━━━━━━━━━━━━━━━━━━━━━━━━━━━┳━━━━━━━━━━━━━━━━━━━━━━━━┳━━━━━━━━━━━━━━━┓\n",
              "┃<span style=\"font-weight: bold\"> Layer (type)                    </span>┃<span style=\"font-weight: bold\"> Output Shape           </span>┃<span style=\"font-weight: bold\">       Param # </span>┃\n",
              "┡━━━━━━━━━━━━━━━━━━━━━━━━━━━━━━━━━╇━━━━━━━━━━━━━━━━━━━━━━━━╇━━━━━━━━━━━━━━━┩\n",
              "│ embedding_1 (<span style=\"color: #0087ff; text-decoration-color: #0087ff\">Embedding</span>)         │ (<span style=\"color: #00af00; text-decoration-color: #00af00\">1</span>, <span style=\"color: #00af00; text-decoration-color: #00af00\">200</span>, <span style=\"color: #00af00; text-decoration-color: #00af00\">128</span>)          │     <span style=\"color: #00af00; text-decoration-color: #00af00\">1,280,000</span> │\n",
              "├─────────────────────────────────┼────────────────────────┼───────────────┤\n",
              "│ lstm_2 (<span style=\"color: #0087ff; text-decoration-color: #0087ff\">LSTM</span>)                   │ (<span style=\"color: #00af00; text-decoration-color: #00af00\">1</span>, <span style=\"color: #00af00; text-decoration-color: #00af00\">200</span>, <span style=\"color: #00af00; text-decoration-color: #00af00\">128</span>)          │       <span style=\"color: #00af00; text-decoration-color: #00af00\">131,584</span> │\n",
              "├─────────────────────────────────┼────────────────────────┼───────────────┤\n",
              "│ lstm_3 (<span style=\"color: #0087ff; text-decoration-color: #0087ff\">LSTM</span>)                   │ (<span style=\"color: #00af00; text-decoration-color: #00af00\">1</span>, <span style=\"color: #00af00; text-decoration-color: #00af00\">64</span>)                │        <span style=\"color: #00af00; text-decoration-color: #00af00\">49,408</span> │\n",
              "├─────────────────────────────────┼────────────────────────┼───────────────┤\n",
              "│ dense_2 (<span style=\"color: #0087ff; text-decoration-color: #0087ff\">Dense</span>)                 │ (<span style=\"color: #00af00; text-decoration-color: #00af00\">1</span>, <span style=\"color: #00af00; text-decoration-color: #00af00\">64</span>)                │         <span style=\"color: #00af00; text-decoration-color: #00af00\">4,160</span> │\n",
              "├─────────────────────────────────┼────────────────────────┼───────────────┤\n",
              "│ dropout_1 (<span style=\"color: #0087ff; text-decoration-color: #0087ff\">Dropout</span>)             │ (<span style=\"color: #00af00; text-decoration-color: #00af00\">1</span>, <span style=\"color: #00af00; text-decoration-color: #00af00\">64</span>)                │             <span style=\"color: #00af00; text-decoration-color: #00af00\">0</span> │\n",
              "├─────────────────────────────────┼────────────────────────┼───────────────┤\n",
              "│ dense_3 (<span style=\"color: #0087ff; text-decoration-color: #0087ff\">Dense</span>)                 │ (<span style=\"color: #00af00; text-decoration-color: #00af00\">1</span>, <span style=\"color: #00af00; text-decoration-color: #00af00\">1</span>)                 │            <span style=\"color: #00af00; text-decoration-color: #00af00\">65</span> │\n",
              "└─────────────────────────────────┴────────────────────────┴───────────────┘\n",
              "</pre>\n"
            ]
          },
          "metadata": {}
        },
        {
          "output_type": "display_data",
          "data": {
            "text/plain": [
              "\u001b[1m Total params: \u001b[0m\u001b[38;5;34m1,465,217\u001b[0m (5.59 MB)\n"
            ],
            "text/html": [
              "<pre style=\"white-space:pre;overflow-x:auto;line-height:normal;font-family:Menlo,'DejaVu Sans Mono',consolas,'Courier New',monospace\"><span style=\"font-weight: bold\"> Total params: </span><span style=\"color: #00af00; text-decoration-color: #00af00\">1,465,217</span> (5.59 MB)\n",
              "</pre>\n"
            ]
          },
          "metadata": {}
        },
        {
          "output_type": "display_data",
          "data": {
            "text/plain": [
              "\u001b[1m Trainable params: \u001b[0m\u001b[38;5;34m1,465,217\u001b[0m (5.59 MB)\n"
            ],
            "text/html": [
              "<pre style=\"white-space:pre;overflow-x:auto;line-height:normal;font-family:Menlo,'DejaVu Sans Mono',consolas,'Courier New',monospace\"><span style=\"font-weight: bold\"> Trainable params: </span><span style=\"color: #00af00; text-decoration-color: #00af00\">1,465,217</span> (5.59 MB)\n",
              "</pre>\n"
            ]
          },
          "metadata": {}
        },
        {
          "output_type": "display_data",
          "data": {
            "text/plain": [
              "\u001b[1m Non-trainable params: \u001b[0m\u001b[38;5;34m0\u001b[0m (0.00 B)\n"
            ],
            "text/html": [
              "<pre style=\"white-space:pre;overflow-x:auto;line-height:normal;font-family:Menlo,'DejaVu Sans Mono',consolas,'Courier New',monospace\"><span style=\"font-weight: bold\"> Non-trainable params: </span><span style=\"color: #00af00; text-decoration-color: #00af00\">0</span> (0.00 B)\n",
              "</pre>\n"
            ]
          },
          "metadata": {}
        },
        {
          "output_type": "stream",
          "name": "stdout",
          "text": [
            "None\n",
            "Epoch 1/5\n",
            "\u001b[1m562/562\u001b[0m \u001b[32m━━━━━━━━━━━━━━━━━━━━\u001b[0m\u001b[37m\u001b[0m \u001b[1m829s\u001b[0m 1s/step - accuracy: 0.7730 - loss: 0.4814 - val_accuracy: 0.8720 - val_loss: 0.3500\n",
            "Epoch 2/5\n",
            "\u001b[1m562/562\u001b[0m \u001b[32m━━━━━━━━━━━━━━━━━━━━\u001b[0m\u001b[37m\u001b[0m \u001b[1m863s\u001b[0m 1s/step - accuracy: 0.8854 - loss: 0.3186 - val_accuracy: 0.9674 - val_loss: 0.1437\n",
            "Epoch 3/5\n",
            "\u001b[1m562/562\u001b[0m \u001b[32m━━━━━━━━━━━━━━━━━━━━\u001b[0m\u001b[37m\u001b[0m \u001b[1m789s\u001b[0m 1s/step - accuracy: 0.9689 - loss: 0.1183 - val_accuracy: 0.9913 - val_loss: 0.0387\n",
            "Epoch 4/5\n",
            "\u001b[1m562/562\u001b[0m \u001b[32m━━━━━━━━━━━━━━━━━━━━\u001b[0m\u001b[37m\u001b[0m \u001b[1m781s\u001b[0m 1s/step - accuracy: 0.9946 - loss: 0.0261 - val_accuracy: 0.9953 - val_loss: 0.0199\n",
            "Epoch 5/5\n",
            "\u001b[1m562/562\u001b[0m \u001b[32m━━━━━━━━━━━━━━━━━━━━\u001b[0m\u001b[37m\u001b[0m \u001b[1m892s\u001b[0m 2s/step - accuracy: 0.9943 - loss: 0.0198 - val_accuracy: 0.9962 - val_loss: 0.0135\n",
            "\u001b[1m281/281\u001b[0m \u001b[32m━━━━━━━━━━━━━━━━━━━━\u001b[0m\u001b[37m\u001b[0m \u001b[1m59s\u001b[0m 210ms/step - accuracy: 0.9957 - loss: 0.0140\n",
            "\n",
            "Deep Learning Model (LSTM) Accuracy: 0.9962137937545776\n",
            "\u001b[1m281/281\u001b[0m \u001b[32m━━━━━━━━━━━━━━━━━━━━\u001b[0m\u001b[37m\u001b[0m \u001b[1m60s\u001b[0m 213ms/step\n",
            "\n",
            "Deep Learning Model (LSTM) Classification Report:\n",
            "              precision    recall  f1-score   support\n",
            "\n",
            "           0       1.00      0.99      1.00      4710\n",
            "           1       0.99      1.00      1.00      4270\n",
            "\n",
            "    accuracy                           1.00      8980\n",
            "   macro avg       1.00      1.00      1.00      8980\n",
            "weighted avg       1.00      1.00      1.00      8980\n",
            "\n",
            "\n",
            "Deep Learning Model (LSTM) Confusion Matrix:\n",
            "[[4686   24]\n",
            " [  10 4260]]\n"
          ]
        }
      ]
    },
    {
      "cell_type": "markdown",
      "source": [
        "# III. CONCLUSIONS"
      ],
      "metadata": {
        "id": "dgEVGNJkpoB9"
      }
    },
    {
      "cell_type": "markdown",
      "source": [
        "###9. Performance Analysis"
      ],
      "metadata": {
        "id": "S1hEvXftpsDn"
      }
    },
    {
      "cell_type": "markdown",
      "source": [
        "**Comparative Classification Methodology: Model 1 (Traditional - Logistic Regression) with Reduced Features**\n",
        "\n",
        "Following the initial baseline and the previois Logistic Regression model, this section presents the performance of a Logistic Regression classifier when the TF-IDF feature extraction was performed with a reduced max_features setting of 500 for both text and title (resulting in a total of 1000 features). The model was trained on the same 80/20 train-test split.\n",
        "\n",
        "The Logistic Regression model, with max_features=500, achieved an overall accuracy of 98.42%. While still a very high accuracy, this represents a slight decrease compared to the 99.19% accuracy achieved when using max_features=10000.\n",
        "\n",
        "The detailed classification report provides further insights:\n",
        "\n",
        "* Fake News (Class 0): The model maintained strong performance for fake news, with a precision of 0.99, recall of 0.98, and an F1-score of 0.98. These metrics are slightly lower than the perfect scores observed with the larger feature set but still indicate robust detection capabilities.\n",
        "\n",
        "* True News (Class 1): For true news articles, the model achieved a precision of 0.98, recall of 0.99, and an F1-score of 0.98. Similar to class 0, there's a marginal decrease in performance compared to the max_features=10000 setup, but the performance remains excellent\n",
        "\n",
        "* Discussion:\n",
        "The reduction in max_features from 10,000 to 500 for TF-IDF features resulted in a marginal, but noticeable, decrease in the Logistic Regression model's accuracy and F1-scores. This suggests that while a smaller vocabulary still captures significant discriminatory information, the broader set of features (from the top 10,000 words) provided slightly more predictive power for this specific task. The model, however, remains highly effective, demonstrating that Logistic Regression is robust even with a more constrained feature set."
      ],
      "metadata": {
        "id": "sbXAx9Pdzij_"
      }
    },
    {
      "cell_type": "markdown",
      "source": [
        "**Comparative Classification Methodology: Model 2 (Deep Learning - LSTM-based Classifier)**\n",
        "\n",
        "For the deep learning approach, an LSTM-based neural network was developed. This model directly processes the sequence of word embeddings, allowing it to capture contextual relationships and dependencies within the text. Prior to model training, the text data was tokenized and padded to ensure uniform input length.\n",
        "* Embedding Layer: Converts word indices into dense 128-dimensional vectors, learning meaningful representations for each word.\n",
        "* LSTM Layers: Two stacked LSTM layers (128 units, then 64 units) are used to process the sequential nature of the text, capturing long-range dependencies. Dropout was applied to mitigate overfitting.\n",
        "* Dense Layers: Followed by a ReLU-activated Dense layer (64 units) for feature transformation and a final sigmoid-activated Dense layer (1 unit) for binary classification output (probability of being true news).\n",
        "\n",
        "**Training and Performance:**\n",
        "The model was compiled with the Adam optimizer and binary cross-entropy loss. It was trained for 5 epochs with a batch size of 64. The training history showed rapid convergence, with both training and validation accuracy steadily increasing and loss decreasing across epochs.\n",
        "\n",
        "The LSTM model achieved an exceptional overall accuracy of 99.81% on the test set.\n",
        "\n",
        "The classification report indicates near-perfect performance:\n",
        "* Fake News (Class 0): The model achieved a precision of 1.00, recall of 1.00, and an F1-score of 1.00.\n",
        "* True News (Class 1): Similarly, for true news, the model obtained a precision of 1.00, recall of 1.00, and an F1-score of 1.00.\n",
        "\n",
        "The model correctly classified 4703 fake news articles and 4260 true news articles. It made only 7 false positive errors (predicting true news when it was fake) and 10 false negative errors (predicting fake news when it was true). The near-perfect scores in the classification report reflect these very low error counts.\n",
        "\n",
        "**Discussion:**\n",
        "The deep learning LSTM model significantly surpassed both the Multinomial Naive Bayes baseline and the Logistic Regression model (even with max_features=10000), achieving the highest accuracy and F1-scores across all models tested. Its ability to learn complex patterns and contextual information from word embeddings proved highly effective for this fake news detection task. The extremely low number of misclassifications, as shown in the confusion matrix, highlights its robust and reliable performance. This outcome validates the effectiveness of deep learning approaches for advanced text classification problems."
      ],
      "metadata": {
        "id": "zhr3XfVV10Sb"
      }
    },
    {
      "cell_type": "code",
      "source": [
        "import pandas as pd\n",
        "import matplotlib.pyplot as plt\n",
        "import seaborn as sns\n",
        "import numpy as np # Needed for potential future calculations if not already imported\n",
        "\n",
        "# --- Assumed Metrics from Previous Model Runs ---\n",
        "# These values would typically come directly from  trained models' evaluation results.\n",
        "# For this code snippet, we'll use the values obtained from  previous successful runs.\n",
        "\n",
        "# Metrics for Logistic Regression (with max_features=10000, as it was the best LR performance)\n",
        "lr_accuracy = 0.9919\n",
        "lr_precision = 0.99\n",
        "lr_recall = 0.99\n",
        "lr_f1 = 0.99\n",
        "\n",
        "# Metrics for LSTM Model\n",
        "lstm_accuracy = 0.9981\n",
        "lstm_precision = 1.00 # Assuming 1.00 based on previous classification report\n",
        "lstm_recall = 1.00    # Assuming 1.00 based on previous classification report\n",
        "lstm_f1 = 1.00        # Assuming 1.00 based on previous classification report\n",
        "\n",
        "# --- 1. Collect and Prepare Data for Visualization ---\n",
        "\n",
        "# Create a dictionary to hold the metrics for each model\n",
        "metrics_data = {\n",
        "    'Metric': ['Accuracy', 'Precision', 'Recall', 'F1-score'], # Types of metrics\n",
        "    'Logistic Regression': [lr_accuracy, lr_precision, lr_recall, lr_f1], # Scores for LR\n",
        "    'LSTM': [lstm_accuracy, lstm_precision, lstm_recall, lstm_f1] # Scores for LSTM\n",
        "}\n",
        "\n",
        "# Convert the dictionary into a Pandas DataFrame\n",
        "df_metrics = pd.DataFrame(metrics_data)\n",
        "\n",
        "# Reshape the DataFrame from a \"wide\" format to a \"long\" format.\n",
        "# This is ideal for seaborn's barplot, where 'hue' differentiates models.\n",
        "df_metrics_melted = df_metrics.melt(id_vars='Metric', var_name='Model', value_name='Score')\n",
        "\n",
        "print(\"Data prepared for visualization:\")\n",
        "print(df_metrics_melted)\n",
        "\n",
        "# --- 2. Generate Comparative Bar Chart ---\n",
        "\n",
        "# Set the figure size for better readability of the plot\n",
        "plt.figure(figsize=(10, 6))\n",
        "\n",
        "# Create the bar chart using seaborn.\n",
        "# x-axis: Metric type (Accuracy, Precision, etc.)\n",
        "# y-axis: Score (the performance value)\n",
        "# hue: Differentiates bars by Model (Logistic Regression vs. LSTM)\n",
        "# palette: Color scheme for the bars\n",
        "sns.barplot(x='Metric', y='Score', hue='Model', data=df_metrics_melted, palette='viridis')\n",
        "\n",
        "# Add a title to the plot\n",
        "plt.title('Comparison of Logistic Regression and LSTM Model Performance', fontsize=16)\n",
        "\n",
        "# Add labels to the axes\n",
        "plt.ylabel('Score', fontsize=12)\n",
        "plt.xlabel('Metric', fontsize=12)\n",
        "\n",
        "# Set the y-axis limits to clearly show the small differences between high-performing models.\n",
        "# Starting from 0.90 makes the differences more apparent.\n",
        "plt.ylim(0.90, 1.00)\n",
        "\n",
        "# Add a horizontal grid for easier reading of the scores\n",
        "plt.grid(axis='y', linestyle='--', alpha=0.7)\n",
        "\n",
        "# Add a legend to identify which color corresponds to which model\n",
        "plt.legend(title='Model', fontsize=10, title_fontsize='12')\n",
        "\n",
        "# Adjust plot layout to prevent labels/titles from overlapping\n",
        "plt.tight_layout()\n",
        "\n",
        "# Display the plot\n",
        "plt.show()\n",
        "\n",
        "print(\"\\nComparative bar chart generated successfully!\")\n"
      ],
      "metadata": {
        "colab": {
          "base_uri": "https://localhost:8080/",
          "height": 815
        },
        "id": "hz_JDLkM5gab",
        "outputId": "64a9ee41-bc17-4b3f-efd4-e823c7f5d950"
      },
      "execution_count": null,
      "outputs": [
        {
          "output_type": "stream",
          "name": "stdout",
          "text": [
            "Data prepared for visualization:\n",
            "      Metric                Model   Score\n",
            "0   Accuracy  Logistic Regression  0.9919\n",
            "1  Precision  Logistic Regression  0.9900\n",
            "2     Recall  Logistic Regression  0.9900\n",
            "3   F1-score  Logistic Regression  0.9900\n",
            "4   Accuracy                 LSTM  0.9981\n",
            "5  Precision                 LSTM  1.0000\n",
            "6     Recall                 LSTM  1.0000\n",
            "7   F1-score                 LSTM  1.0000\n"
          ]
        },
        {
          "output_type": "display_data",
          "data": {
            "text/plain": [
              "<Figure size 1000x600 with 1 Axes>"
            ],
            "image/png": "[encoded data removed]"
          },
          "metadata": {}
        },
        {
          "output_type": "stream",
          "name": "stdout",
          "text": [
            "\n",
            "Comparative bar chart generated successfully!\n"
          ]
        }
      ]
    },
    {
      "cell_type": "markdown",
      "source": [
        "* Comparison and conclusion:\n",
        "While both models are highly effective, the LSTM model marginally outperforms the Logistic Regression Model. This indicated that for tasks involving complex lingusitic nuances, deep learning architectures like LSTMs can provide a slight edge by understanding semantic realtionships and context beyond simple word frequencies. Howeverm the strong performance of Logistic Regression also highlights its efficiency and effectiveness as a robust baseline for text classification. The minial difference between the two models suggests that the dataset is relatively separable given the chosen preprocessing and feature engineering, but the LSTM's ability to achieve virtually perfect scroes on this dataset underscores its powerful learning capabilities."
      ],
      "metadata": {
        "id": "LdDEIiXE6yYg"
      }
    },
    {
      "cell_type": "markdown",
      "source": [
        "10. Project Summary and Reflections\n",
        "\n",
        "This project focused on developing and comparing text classification models for fake news detection, leveraging a dataset comprising both geniine and fabricated news articles. The primary objective was to access the effectiveness of traditional statistical models against modern deep learning approaches in accurately identifying misinformation.\n",
        "\n",
        "The metholodogy involved several key stages. Initially, comprehensive data preprocessing was performed on raw text data,including lowercasing, punctuation and digit removal, tokenization, lemmatization, and stop word removal. This cleaning step was crucial for preparing the text for subsequent machine learning.\n",
        "\n",
        "For feature extraction, two distinct approaches were employed. Traditional models utilized TF-IDF (Term Frequency-Inverse Document Frequency) vectorization, transforming text into numerical feature vectors that emphasize the importance of words within documents relative to the entire corpus. For the deep learning model, raw text sequences were tokenized and padded, with an embedding layer then converting these integer sequences into dense, semantic vector representations.\n",
        "\n",
        "A comparative analysis was conducted across three model types:\n",
        "\n",
        "* Mutlinomial Naive Bayes(Baseline): This simple probabilistic model served as a strong baseline, demonstrating good initial performance in classifying news articles.\n",
        "* Logistic Regression (Tradional Model): When applied to the rich TF-IDF features, Logistic Regression significantly surpassed the baseline, achieving high accurarcy, precision, recall, and F1-scores. This highlighted the robust capabilities of trational linear models on structured textual features.\n",
        "* LSTM (Deep Learning Model): The Long Short-Term Memory neural network, leveraging learned word embeddings, exhibited the highest performance among all tested models. Its ability to process sequential data and capture long-range dependencies allowed it to achieve near-perfect accuracy and F1-scores, demonstrating the superior representational power of deep learning for complex text understanding tasks.\n",
        "\n",
        "\n",
        "In reflection, this project underscored the critical importance of meticulous data preprocessing in natural language processing. It confirmed that while traditional machine learning models like Logistic Regression can achieve remarkable performance with effective feature engineering, deep learning architectures, such as LSTMs, offer a slight but consistent edge in accuracy, particularly by learning richer, contextual representations of text.\n",
        "\n",
        "**Key Observations and Practical Considerations for Deep Learning:**\n",
        "\n",
        "* Training Time: A significant observation was the substantial training time required for the deep learning model compared to traditional machine learning models. The LSTM model took nearly an hour to train, highlighting the computational intensity of neural networks.\n",
        "* Overfitting: Deep learning models, by nature, are prone to overfitting, given their high capacity. Techniques such as dropout layers, which were implemented in our LSTM architecture, and careful monitoring of validation performance, proved crucial in mitigating this risk and ensuring good generalization to unseen data.\n",
        "* GPU Utilization: For faster training of deep learning models, the availability and utilization of a Graphics Processing Unit (GPU) are essential. Without GPU acceleration, the training times observed would be even longer, making iterative model development impractical.\n",
        "Future work could involve exploring more sophisticated deep learning models (e.g., Transformer-based architectures like BERT), incorporating external metadata (e.g., source credibility, author reputation), or focusing on explainable AI techniques to understand why a model classifies a piece of news as fake or true."
      ],
      "metadata": {
        "id": "3rn64TPH3d35"
      }
    }
  ]
}